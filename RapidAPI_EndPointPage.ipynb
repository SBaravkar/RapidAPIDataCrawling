{
 "cells": [
  {
   "cell_type": "markdown",
   "id": "3ddf862d",
   "metadata": {},
   "source": [
    "### Import all necesaary packages\n"
   ]
  },
  {
   "cell_type": "code",
   "execution_count": 1,
   "id": "9d0d5701",
   "metadata": {},
   "outputs": [],
   "source": [
    "from requests import session\n",
    "from bs4 import BeautifulSoup as bs\n",
    "import re\n",
    "from selenium import webdriver\n",
    "from selenium.webdriver.chrome.options import Options\n",
    "from selenium.webdriver.common.by import By\n",
    "from selenium.webdriver.support.ui import WebDriverWait\n",
    "from selenium.webdriver.support import expected_conditions as EC\n",
    "from selenium.common.exceptions import TimeoutException\n",
    "from urllib.parse import urlparse\n"
   ]
  },
  {
   "cell_type": "markdown",
   "id": "f9e46a8a",
   "metadata": {},
   "source": [
    "### Find all API categories\n"
   ]
  },
  {
   "cell_type": "code",
   "execution_count": 2,
   "id": "567f4558",
   "metadata": {},
   "outputs": [],
   "source": [
    "API_URL = 'https://rapidapi.com/categories'\n",
    "with session() as s:\n",
    "    r1 = s.get(API_URL)\n",
    "\n",
    "soup = bs(r1.text, 'html.parser')\n",
    "htmlText = soup.prettify()\n",
    "API_Categories= soup.find_all('div',{'CollectionCarousel CollectionCarousel'})\n",
    "#print(htmlText)"
   ]
  },
  {
   "cell_type": "markdown",
   "id": "45a72cc3",
   "metadata": {},
   "source": [
    "### Get all API category links"
   ]
  },
  {
   "cell_type": "code",
   "execution_count": 3,
   "id": "af2456dc",
   "metadata": {},
   "outputs": [],
   "source": [
    "# Parse the HTML content\n",
    "soup_all_categories = bs(r1.text, 'html.parser')\n",
    "\n",
    "# Find the <a> tag with the specified class\n",
    "a_tags = soup.find_all('a', class_='CardLink')\n",
    "href_values = []\n",
    "categories = []\n",
    "if a_tags:\n",
    "    for a_tag in a_tags:\n",
    "        href_value = a_tag.get('href')\n",
    "        href_values.append(href_value)\n",
    "        category = a_tag.text.strip()\n",
    "        categories.append(category)      \n",
    "else:\n",
    "    print('No match found.')"
   ]
  },
  {
   "cell_type": "code",
   "execution_count": 4,
   "id": "7e28a4ff",
   "metadata": {},
   "outputs": [
    {
     "name": "stdout",
     "output_type": "stream",
     "text": [
      "[('Sports', 'https://rapidapi.com/category/Sports'), ('Finance', 'https://rapidapi.com/category/Finance'), ('Data', 'https://rapidapi.com/category/Data'), ('Entertainment', 'https://rapidapi.com/category/Entertainment'), ('Travel', 'https://rapidapi.com/category/Travel'), ('Location', 'https://rapidapi.com/category/Location'), ('Science', 'https://rapidapi.com/category/Science'), ('Food', 'https://rapidapi.com/category/Food'), ('Transportation', 'https://rapidapi.com/category/Transportation'), ('Music', 'https://rapidapi.com/category/Music'), ('Business', 'https://rapidapi.com/category/Business'), ('Visual Recognition', 'https://rapidapi.com/category/Visual%20Recognition'), ('Tools', 'https://rapidapi.com/category/Tools'), ('Text Analysis', 'https://rapidapi.com/category/Text%20Analysis'), ('Weather', 'https://rapidapi.com/category/Weather'), ('Gaming', 'https://rapidapi.com/category/Gaming'), ('SMS', 'https://rapidapi.com/category/SMS'), ('Events', 'https://rapidapi.com/category/Events'), ('Health and Fitness', 'https://rapidapi.com/category/Health%20and%20Fitness'), ('Payments', 'https://rapidapi.com/category/Payments'), ('Financial', 'https://rapidapi.com/category/Financial'), ('Translation', 'https://rapidapi.com/category/Translation'), ('Storage', 'https://rapidapi.com/category/Storage'), ('Logistics', 'https://rapidapi.com/category/Logistics'), ('Database', 'https://rapidapi.com/category/Database'), ('Search', 'https://rapidapi.com/category/Search'), ('Reward', 'https://rapidapi.com/category/Reward'), ('Mapping', 'https://rapidapi.com/category/Mapping'), ('Artificial Intelligence/Machine Learning', 'https://rapidapi.com/category/Artificial%20Intelligence%2FMachine%20Learning'), ('Email', 'https://rapidapi.com/category/Email'), ('News, Media', 'https://rapidapi.com/category/News,%20Media'), ('Video, Images', 'https://rapidapi.com/category/Video,%20Images'), ('eCommerce', 'https://rapidapi.com/category/eCommerce'), ('Medical', 'https://rapidapi.com/category/Medical'), ('Devices', 'https://rapidapi.com/category/Devices'), ('Business Software', 'https://rapidapi.com/category/Business%20Software'), ('Advertising', 'https://rapidapi.com/category/Advertising'), ('Education', 'https://rapidapi.com/category/Education'), ('Media', 'https://rapidapi.com/category/Media'), ('Social', 'https://rapidapi.com/category/Social'), ('Commerce', 'https://rapidapi.com/category/Commerce'), ('Communication', 'https://rapidapi.com/category/Communication'), ('Other', 'https://rapidapi.com/category/Other'), ('Monitoring', 'https://rapidapi.com/category/Monitoring'), ('Energy', 'https://rapidapi.com/category/Energy'), ('Jobs', 'https://rapidapi.com/category/Jobs'), ('Movies', 'https://rapidapi.com/category/Movies'), ('Cryptography', 'https://rapidapi.com/category/Cryptography'), ('Cybersecurity', 'https://rapidapi.com/category/Cybersecurity')]\n"
     ]
    }
   ],
   "source": [
    "if href_values:\n",
    "    href_value = [\"https://rapidapi.com\" + href for href in href_values]    \n",
    "    api_href_pairs = list(zip(categories, href_value))\n",
    "    print(api_href_pairs)\n",
    "else:\n",
    "    print('No href value found.')"
   ]
  },
  {
   "cell_type": "markdown",
   "id": "388228af",
   "metadata": {},
   "source": [
    "### Get API links for each category link"
   ]
  },
  {
   "cell_type": "code",
   "execution_count": 5,
   "id": "f8e5cf1a",
   "metadata": {
    "scrolled": false
   },
   "outputs": [
    {
     "name": "stdout",
     "output_type": "stream",
     "text": [
      "https://rapidapi.com/amrelrafie/api/movies-tv-shows-database/\n",
      "https://rapidapi.com/movie-of-the-night-movie-of-the-night-default/api/streaming-availability/\n",
      "https://rapidapi.com/Glavier/api/netflix54/\n",
      "https://rapidapi.com/mikechen342/api/movie-tv-music-search-and-download/\n",
      "https://rapidapi.com/yassinezaza20/api/imdb-top-100-movies1/\n",
      "https://rapidapi.com/jakash1997/api/advanced-movie-search/\n",
      "https://rapidapi.com/gox-ai-gox-ai-default/api/ott-details/\n",
      "https://rapidapi.com/brian.rofiq/api/anime-db/\n",
      "https://rapidapi.com/SAdrian/api/moviesdatabase/\n",
      "https://rapidapi.com/abirbhattacharya82/api/abir82-bollywood-recommendations/\n",
      "https://rapidapi.com/SAdrian/api/moviesminidatabase/\n",
      "https://rapidapi.com/KASO/api/where-can-i-watch1/\n",
      "https://rapidapi.com/ptwebsolution/api/anime52/\n",
      "https://rapidapi.com/louislefebure9/api/star-wars-characters/\n",
      "https://rapidapi.com/selcukguler0/api/one-piece2/\n",
      "https://rapidapi.com/amandapakalniskyte/api/movies-api6/\n",
      "https://rapidapi.com/belchiorarkad-FqvHs2EDOtP/api/youtube-downloader19/\n",
      "https://rapidapi.com/soyamchinglemba/api/imdb_api4/\n",
      "https://rapidapi.com/rur209-fl23Nrvhxii/api/movie-and-tv-shows-quotes/\n",
      "https://rapidapi.com/danielilieprojects-G7QdvK7X5Ao/api/movies-news1/\n",
      "https://rapidapi.com/laminesaadi92-RXm-MnhKQy/api/netflix26/\n",
      "https://rapidapi.com/mack06/api/filmaffinity-unofficial/\n",
      "https://rapidapi.com/deji12/api/protontv/\n",
      "https://rapidapi.com/sechno-sechno-default/api/latest-anime-api/\n",
      "https://rapidapi.com/animeslayerquiz/api/similar-movies/\n",
      "https://rapidapi.com/firdavscoder1/api/playphrase-me/\n",
      "https://rapidapi.com/minthura635-_V0ntJJpmDT/api/razorcloud-xtream1/\n",
      "https://rapidapi.com/myritebook-myritebook-default/api/myritebook/\n",
      "https://rapidapi.com/arvitaly/api/films2/\n",
      "https://rapidapi.com/Mangsud/api/paxapi/\n",
      "https://rapidapi.com/bocahmyanmar/api/apikiki/\n",
      "https://rapidapi.com/ellahTestingTool/api/daily-ovrll-0822202124848/\n",
      "https://rapidapi.com/unluckychild/api/aiom-db-all-in-one-movie-database/\n",
      "https://rapidapi.com/amrashebo09-r8j-JEnjktA/api/movie-and-tv-show-api/\n",
      "https://rapidapi.com/ellahTestingTool/api/daily-ovrll-0822202141203/\n",
      "https://rapidapi.com/ellahTestingTool/api/daily-ovrll-0822202130837/\n",
      "https://rapidapi.com/ellahTestingTool/api/daily-ovrll-0822202143542/\n",
      "https://rapidapi.com/ellahTestingTool/api/daily-ovrll-0822202130334/\n",
      "https://rapidapi.com/ellahTestingTool/api/daily-ovrll-0822202140642/\n",
      "https://rapidapi.com/ellahTestingTool/api/daily-ovrll-0822202130418/\n",
      "https://rapidapi.com/skrebl/api/tip-for-movie/\n",
      "https://rapidapi.com/mycoding73-29RJKzwz_49/api/asiandramas-api-with-watching-link/\n",
      "https://rapidapi.com/bhaskarreddyakepati/api/ott-release-updates/\n",
      "https://rapidapi.com/ExoWatts/api/chuck-norris-facts/\n",
      "https://rapidapi.com/leahdaypeters4411/api/filmquestions/\n",
      "https://rapidapi.com/dotero27022001/api/movies-app1/\n",
      "https://rapidapi.com/AMINE1921/api/top-10-movies-of-the-day/\n",
      "https://rapidapi.com/andrewsapw/api/film-ru/\n",
      "https://rapidapi.com/gowatch/api/gowatch/\n",
      "https://rapidapi.com/standingapi-standingapi-default/api/1mdb-data-searching/\n",
      "https://rapidapi.com/sniperdevil/api/torrent-scrapper-api/\n",
      "https://rapidapi.com/avya1988112008/api/movies-and-tv-database/\n",
      "https://rapidapi.com/apiwhiz/api/game-of-thrones-quotes/\n",
      "https://rapidapi.com/kvngfawaz-fX53a8DV5tH/api/latest-movies/\n",
      "https://rapidapi.com/esmat10.niazi/api/movieera-101/\n",
      "https://rapidapi.com/prajyu2003/api/potter-spells/\n",
      "https://rapidapi.com/hendrahima1-0PV5OBAUoqB/api/james-bond-movie-series-data/\n",
      "https://rapidapi.com/janetmsrian12253/api/data-movies/\n",
      "https://rapidapi.com/anshuldagar9/api/porn-links/\n",
      "https://rapidapi.com/lukerhodri-qXjCQuaRNKg/api/highest-grossing-movies/\n",
      "https://rapidapi.com/cmwamba058-_Sq9hGXi1E/api/animes3/\n",
      "https://rapidapi.com/bradley.annear/api/movie-series-books-database/\n",
      "https://rapidapi.com/standingapi-standingapi-default/api/moviesdb5/\n",
      "https://rapidapi.com/rasiqueira/api/netflix-unofficial/\n",
      "https://rapidapi.com/16231108/api/getpopular1/\n",
      "https://rapidapi.com/yaminshelly/api/star-wars7/\n",
      "https://rapidapi.com/mahamcodes/api/movies-api5/\n",
      "https://rapidapi.com/diikagnteng-McDOF1W7i07/api/vod1/\n",
      "https://rapidapi.com/rahullalraghav/api/movies157/\n",
      "https://rapidapi.com/elmehdiwady/api/movies74/\n",
      "https://rapidapi.com/sshanbond/api/movies-shows-subtitles-search1/\n",
      "https://rapidapi.com/patriciaatrindade/api/movies115/\n",
      "https://rapidapi.com/dhbeckbessinger-nPureuw0-k7/api/rapidtest3/\n",
      "https://rapidapi.com/ketuman333-ZEuCxBwXq0v/api/moviehut-random-movie/\n",
      "https://rapidapi.com/mdwit0r/api/knopoisk_dev_api/\n",
      "https://rapidapi.com/SheMortal/api/campertrailerpro/\n",
      "https://rapidapi.com/yaminshelly/api/my-movies2/\n",
      "https://rapidapi.com/jonhsonle-jonhsonle-default/api/thanh-nguyen/\n",
      "https://rapidapi.com/phuongnam131201.nnnpn/api/movie-group-3/\n",
      "https://rapidapi.com/abdonvaldez705/api/movies-quest/\n",
      "https://rapidapi.com/manoharmohanta/api/reeltorrent/\n",
      "https://rapidapi.com/tokyolife1997/api/re-write-gc/\n",
      "https://rapidapi.com/zohrehconversation/api/api-rapidapi/\n",
      "https://rapidapi.com/ellahTestingTool/api/daily-ovrll-0822202140919/\n",
      "https://rapidapi.com/NISHAN45/api/nisha-n/\n",
      "https://rapidapi.com/insanemedia-insanemedia-default/api/youtube-video-download/\n",
      "https://rapidapi.com/gk378132/api/md-gulzar/\n",
      "https://rapidapi.com/xenoofficialteam/api/tamba/\n",
      "https://rapidapi.com/vvpp1223/api/asa14/\n",
      "https://rapidapi.com/masterlog369/api/movies316/\n"
     ]
    }
   ],
   "source": [
    "options = webdriver.ChromeOptions()\n",
    "options.add_argument('--headless')  # Run Chrome in headless mode, without opening a window\n",
    "\n",
    "user_data_dir = r'C:\\Users\\siddh\\AppData\\Local\\Google\\Chrome\\User Data'\n",
    "\n",
    "webdriver_path = 'D:\\chromedriver_win32\\chromedriver.exe'  # Replace with the actual path to the chromedriver executable\n",
    "\n",
    "options.add_argument(f'--user-data-dir={user_data_dir}')\n",
    "\n",
    "driver = webdriver.Chrome(executable_path=webdriver_path, options=options)\n",
    "\n",
    "#for x in href_value:\n",
    "    #print(x)\n",
    "    # Load the initial URL\n",
    "driver.get('https://rapidapi.com/category/Movies')\n",
    "base_urls = []\n",
    "def scrape_page(url):\n",
    "    soup = bs(driver.page_source, 'html.parser')\n",
    "    a_tags = soup.find_all('a', class_='CardLink')\n",
    "    if a_tags:\n",
    "        for a_tag in a_tags:\n",
    "            base_url = \"https://rapidapi.com\" + a_tag.get('href')\n",
    "            base_urls.append(base_url)\n",
    "def scrape_all_pages(base_url):\n",
    "     while True:\n",
    "        scrape_page(driver.current_url)\n",
    "        next_button = None\n",
    "        try:\n",
    "            next_button = WebDriverWait(driver, 10).until(EC.element_to_be_clickable((By.XPATH, \"//button[contains(@class, 'r-page-link') and contains(text(),'›') and not(@disabled)]\")))\n",
    "            driver.execute_script(\"arguments[0].click();\", next_button)\n",
    "            WebDriverWait(driver, 10).until(EC.staleness_of(next_button))\n",
    "        except:\n",
    "            if next_button is None:\n",
    "                break\n",
    "\n",
    "scrape_all_pages('https://rapidapi.com/category/Movies')\n",
    "driver.quit()  # Close the browser after scraping    \n",
    "\n",
    "# Print the scraped URLs\n",
    "for url in base_urls:\n",
    "    print(url)\n"
   ]
  },
  {
   "cell_type": "code",
   "execution_count": 38,
   "id": "b095e62e",
   "metadata": {},
   "outputs": [
    {
     "name": "stdout",
     "output_type": "stream",
     "text": [
      "Index: 669\n",
      "688\n",
      "https://rapidapi.com/regus-regus-default/api/r7/\n",
      "https://rapidapi.com/manir1179/api/fantom/\n",
      "https://rapidapi.com/et35wu-uxd2XER8qt/api/lady-juice/\n",
      "https://rapidapi.com/epfkliplive/api/studiokosovo-moviedatabase/\n",
      "https://rapidapi.com/tianhahaha44/api/test-ee/\n",
      "https://rapidapi.com/lwalker/api/adsfdsaf/\n",
      "https://rapidapi.com/ravikant.k.sharma/api/clinic-management/\n",
      "https://rapidapi.com/chase0818/api/ethereum/\n",
      "https://rapidapi.com/incrivelma13/api/teste920/\n",
      "https://rapidapi.com/RetiredQQ/api/translator101/\n",
      "https://rapidapi.com/nbehrje/api/bleu-score/\n",
      "https://rapidapi.com/lazaniaina13/api/uptodown/\n",
      "https://rapidapi.com/portamine781/api/bot-translate-by-googile/\n",
      "https://rapidapi.com/arvindkk2000/api/arvind/\n",
      "https://rapidapi.com/ruhanipurohit4/api/shoviv-office-365-backup-and-restore-tool/\n",
      "https://rapidapi.com/thadajir/api/add_items_in_order_of_priority_with_capacity_constrains/\n",
      "https://rapidapi.com/leduc1109199y/api/xoso661/\n",
      "https://rapidapi.com/busra-next-busra-next-default/api/deneme152/\n",
      "https://rapidapi.com/jabrshyan4/api/jaber1/\n"
     ]
    }
   ],
   "source": [
    "index = base_urls.index('https://rapidapi.com/regus-regus-default/api/r7/')\n",
    "print(f\"Index: {index}\")\n",
    "print(len(base_urls))\n",
    "for base_url in base_urls[669:]:\n",
    "    print(base_url)"
   ]
  },
  {
   "cell_type": "markdown",
   "id": "65ec5744",
   "metadata": {},
   "source": [
    "### Get details from endpoint page"
   ]
  },
  {
   "cell_type": "code",
   "execution_count": 33,
   "id": "41ccc3d0",
   "metadata": {
    "scrolled": true
   },
   "outputs": [
    {
     "name": "stdout",
     "output_type": "stream",
     "text": [
      "https://rapidapi.com/FutureWave/api/chatgpt-gpt-3-5/\n",
      "https://rapidapi.com/developersofchd/api/ai-detector-using-perplexities/\n",
      "https://rapidapi.com/skymel-skymel-default/api/nsfw-image-detector-or-classifier/\n",
      "https://rapidapi.com/skymel-skymel-default/api/generativeai-image-detection/\n",
      "https://rapidapi.com/sfperalta2001/api/midjourney-prompt-generator/\n",
      "https://rapidapi.com/ailabapi-ailabapi-default/api/skin-color-analysis/\n",
      "https://rapidapi.com/versed-ai-versed-ai-default/api/company-ner-alpha/\n",
      "https://rapidapi.com/bashogerhuis-xyojI-1eLwV/api/cheapdiffusion/\n",
      "https://rapidapi.com/tungvh/api/gptgo/\n",
      "https://rapidapi.com/taitk88com/api/penalty-la-gi-luat-da-penalty-nhu-the-nao/\n",
      "https://rapidapi.com/samridhisaini01971-w8DCazGHHYF/api/home-automation-api/\n",
      "https://rapidapi.com/maheshshali10/api/online-code-compiler2/\n",
      "https://rapidapi.com/abhibist630/api/abhimodszyt/\n",
      "https://rapidapi.com/intermineinc/api/synthesys-ai-studio/\n",
      "https://rapidapi.com/abderrazak/api/test15567/\n",
      "https://rapidapi.com/inworld-ai-inworld-ai-default/api/inworld-unity-sdk/\n",
      "https://rapidapi.com/ashuankitpandey/api/ankit7/\n",
      "https://rapidapi.com/carlosfigggg-5FlVuI1jh8/api/make68/\n",
      "https://rapidapi.com/hotties1a/api/hotties-club/\n",
      "https://rapidapi.com/zaidkaream111/api/postapizaid/\n",
      "https://rapidapi.com/resr92/api/copa-verde/\n",
      "https://rapidapi.com/soyamchinglemba/api/bcaa_amazon_products/\n",
      "https://rapidapi.com/pkdinhtienhoang32/api/phong-kham-dinh-tien-hoang/\n",
      "https://rapidapi.com/maybank-big-wins/api/xe88/\n",
      "https://rapidapi.com/elearnmoh/api/my_movie_data/\n",
      "https://rapidapi.com/regus-regus-default/api/r7/\n"
     ]
    },
    {
     "ename": "KeyboardInterrupt",
     "evalue": "",
     "output_type": "error",
     "traceback": [
      "\u001b[1;31m---------------------------------------------------------------------------\u001b[0m",
      "\u001b[1;31mKeyboardInterrupt\u001b[0m                         Traceback (most recent call last)",
      "Cell \u001b[1;32mIn[33], line 42\u001b[0m\n\u001b[0;32m     32\u001b[0m     driver\u001b[38;5;241m.\u001b[39mswitch_to\u001b[38;5;241m.\u001b[39mframe(iframe_element)\n\u001b[0;32m     33\u001b[0m     \u001b[38;5;66;03m#span1_elements = driver.find_elements(By.XPATH, '//span[@class=\"endpoint-name\"]')\u001b[39;00m\n\u001b[0;32m     34\u001b[0m     \u001b[38;5;66;03m#span2_elements = driver.find_elements(By.XPATH, '//span[@class=\"ant-collapse-header-text\"]//span[@class=\"group-name\"]')\u001b[39;00m\n\u001b[0;32m     35\u001b[0m \n\u001b[1;32m   (...)\u001b[0m\n\u001b[0;32m     40\u001b[0m     \u001b[38;5;66;03m# Create a comma-separated string\u001b[39;00m\n\u001b[0;32m     41\u001b[0m     \u001b[38;5;66;03m#endpoints = ','.join(span_texts)\u001b[39;00m\n\u001b[1;32m---> 42\u001b[0m     span_url \u001b[38;5;241m=\u001b[39m WebDriverWait(driver, \u001b[38;5;241m100\u001b[39m)\u001b[38;5;241m.\u001b[39muntil(EC\u001b[38;5;241m.\u001b[39mvisibility_of_element_located((By\u001b[38;5;241m.\u001b[39mXPATH, \u001b[38;5;124m'\u001b[39m\u001b[38;5;124m//span[@class=\u001b[39m\u001b[38;5;124m\"\u001b[39m\u001b[38;5;124mtoken\u001b[39m\u001b[38;5;124m\"\u001b[39m\u001b[38;5;124m and contains(text(), \u001b[39m\u001b[38;5;124m\"\u001b[39m\u001b[38;5;124mhttps\u001b[39m\u001b[38;5;124m\"\u001b[39m\u001b[38;5;124m)]\u001b[39m\u001b[38;5;124m'\u001b[39m)))\n\u001b[0;32m     43\u001b[0m     api_url \u001b[38;5;241m=\u001b[39m span_url\u001b[38;5;241m.\u001b[39mtext\u001b[38;5;241m.\u001b[39mstrip(\u001b[38;5;124m\"\u001b[39m\u001b[38;5;124m'\u001b[39m\u001b[38;5;124m\"\u001b[39m)\n\u001b[0;32m     44\u001b[0m \u001b[38;5;28;01mexcept\u001b[39;00m TimeoutException:\n",
      "File \u001b[1;32m~\\.conda\\envs\\rapAPI\\Lib\\site-packages\\selenium\\webdriver\\support\\wait.py:77\u001b[0m, in \u001b[0;36mWebDriverWait.until\u001b[1;34m(self, method, message)\u001b[0m\n\u001b[0;32m     75\u001b[0m     screen \u001b[38;5;241m=\u001b[39m \u001b[38;5;28mgetattr\u001b[39m(exc, \u001b[38;5;124m'\u001b[39m\u001b[38;5;124mscreen\u001b[39m\u001b[38;5;124m'\u001b[39m, \u001b[38;5;28;01mNone\u001b[39;00m)\n\u001b[0;32m     76\u001b[0m     stacktrace \u001b[38;5;241m=\u001b[39m \u001b[38;5;28mgetattr\u001b[39m(exc, \u001b[38;5;124m'\u001b[39m\u001b[38;5;124mstacktrace\u001b[39m\u001b[38;5;124m'\u001b[39m, \u001b[38;5;28;01mNone\u001b[39;00m)\n\u001b[1;32m---> 77\u001b[0m time\u001b[38;5;241m.\u001b[39msleep(\u001b[38;5;28mself\u001b[39m\u001b[38;5;241m.\u001b[39m_poll)\n\u001b[0;32m     78\u001b[0m \u001b[38;5;28;01mif\u001b[39;00m time\u001b[38;5;241m.\u001b[39mtime() \u001b[38;5;241m>\u001b[39m end_time:\n\u001b[0;32m     79\u001b[0m     \u001b[38;5;28;01mbreak\u001b[39;00m\n",
      "\u001b[1;31mKeyboardInterrupt\u001b[0m: "
     ]
    }
   ],
   "source": [
    "host_name = ''\n",
    "url = ''\n",
    "endpoints=''\n",
    "api_url=''\n",
    "endpoint_details = {}\n",
    "options = webdriver.ChromeOptions()\n",
    "options.add_argument('--headless')  # Run Chrome in headless mode, without opening a window\n",
    "\n",
    "user_data_dir = r'C:\\Users\\siddh\\AppData\\Local\\Google\\Chrome\\User Data'\n",
    "\n",
    "webdriver_path = 'D:\\chromedriver_win32\\chromedriver.exe'  # Replace with the actual path to the chromedriver executable\n",
    "\n",
    "options.add_argument(f'--user-data-dir={user_data_dir}')\n",
    "\n",
    "driver = webdriver.Chrome(executable_path=webdriver_path, options=options)\n",
    "#for base_url in base_urls:\n",
    "for base_url in base_urls[670:]:\n",
    "    print(base_url)\n",
    "    driver.get(base_url)\n",
    "    r2 = s.get(base_url)\n",
    "    soup1 = bs(r2.text, 'html.parser')\n",
    "    htmlText1 = soup1.prettify()\n",
    "    find_top_bar_details= soup1.find('div', class_='TopRow')\n",
    "    top_bar_details = find_top_bar_details.get_text(strip=True) if find_top_bar_details else \"\"\n",
    "\n",
    "    find_endpoint_description = soup1.find('div', class_='EndpointsPage TabContent')\n",
    "    endpoint_description = find_endpoint_description.get_text(strip=True) if find_endpoint_description else \"\"\n",
    "    wait = WebDriverWait(driver, 100)\n",
    "    try:\n",
    "        iframe_element = wait.until(EC.presence_of_element_located((By.TAG_NAME, 'iframe')))\n",
    "        # Switch to the iframe context\n",
    "        driver.switch_to.frame(iframe_element)\n",
    "        #span1_elements = driver.find_elements(By.XPATH, '//span[@class=\"endpoint-name\"]')\n",
    "        #span2_elements = driver.find_elements(By.XPATH, '//span[@class=\"ant-collapse-header-text\"]//span[@class=\"group-name\"]')\n",
    "    \n",
    "        #span1_texts = [span1_element.text for span1_element in span1_elements]\n",
    "        #span2_texts = [span2_element.text for span2_element in span2_elements]\n",
    "    \n",
    "        #span_texts = span1_texts + span2_texts\n",
    "        # Create a comma-separated string\n",
    "        #endpoints = ','.join(span_texts)\n",
    "        span_url = WebDriverWait(driver, 100).until(EC.visibility_of_element_located((By.XPATH, '//span[@class=\"token\" and contains(text(), \"https\")]')))\n",
    "        api_url = span_url.text.strip(\"'\")\n",
    "    except TimeoutException:\n",
    "        continue\n",
    "\n",
    "    try:\n",
    "        input_element = wait.until(EC.visibility_of_element_located((By.ID, 'x-rapidapi-host')))\n",
    "        host_name = input_element.get_attribute('value')    \n",
    "    except TimeoutException:\n",
    "        host_name = ''\n",
    "\n",
    "    endpoint_details[base_url] = {\n",
    "        'top_des': top_bar_details,\n",
    "        'endpoint_des': endpoint_description,\n",
    "        'endpoints': endpoints,\n",
    "        'api_url': api_url,\n",
    "        'hostname': host_name\n",
    "    }\n",
    "# Switch back to the default content\n",
    "    driver.switch_to.default_content()\n",
    "driver.quit()\n",
    "print(endpoint_details)"
   ]
  },
  {
   "cell_type": "code",
   "execution_count": 34,
   "id": "931e8c2d",
   "metadata": {
    "scrolled": true
   },
   "outputs": [
    {
     "name": "stdout",
     "output_type": "stream",
     "text": [
      "{'https://rapidapi.com/skymel-skymel-default/api/nsfw-image-detector-or-classifier/': {'top_des': 'NSFW Image detector or ClassifierFREEMIUMBySkymel|\\nUpdated 7日前 |Visual RecognitionPopularity8.9 / 10Latency2,551msService Level97%', 'endpoint_des': 'The NSFW classifier is capable of accurately detecting inappropriate content, even in generative AI images and avatars.Loading API Playground', 'endpoints': '', 'api_url': 'https://nsfw-image-detector-or-classifier.p.rapidapi.com/api-v1.0/SafeUnsafeImageWithTags', 'hostname': 'nsfw-image-detector-or-classifier.p.rapidapi.com'}}\n"
     ]
    }
   ],
   "source": [
    "print(endpoint_details)"
   ]
  },
  {
   "cell_type": "markdown",
   "id": "93bc9a89",
   "metadata": {},
   "source": [
    "### Upload to Table enpointPage\n"
   ]
  },
  {
   "cell_type": "code",
   "execution_count": 35,
   "id": "56e7763f",
   "metadata": {
    "collapsed": true
   },
   "outputs": [],
   "source": [
    "import mysql.connector\n",
    "\n",
    "# Connect to MySQL\n",
    "cnx = mysql.connector.connect(\n",
    "    host='xxx',\n",
    "    user='root',\n",
    "    password='xxx',\n",
    "    database='rapAPI'\n",
    ")\n",
    "\n",
    "cursor = cnx.cursor()\n",
    "\n",
    "# Prepare the SQL statement for the insert operation\n",
    "insert_endpoint_details = \"INSERT INTO endpointPage (base_url, top_des, endpoint_des, endpoints, api_url, hostname) VALUES (%s, %s, %s, %s, %s, %s)\"\n",
    "\n",
    "# Iterate over the items in the api_details dictionary\n",
    "for base_url, details in endpoint_details.items():\n",
    "    top_des = details['top_des']\n",
    "    endpoint_des = details['endpoint_des'][:10000]\n",
    "    endpoints = details['endpoints']\n",
    "    api_url =  details['api_url'][:300]\n",
    "    hostname = details['hostname']\n",
    "\n",
    "    # Check if URL already exists in the database\n",
    "    select_query = \"SELECT base_url FROM endpointPage WHERE base_url = %s\"\n",
    "    cursor.execute(select_query, (base_url,))\n",
    "    existing_url = cursor.fetchone()\n",
    "\n",
    "    if existing_url:\n",
    "        print(f\"URL {base_url} already exists in the database. Skipping insertion.\")\n",
    "    else:\n",
    "        # Execute the insert operation for each URL and details\n",
    "        cursor.execute(insert_endpoint_details, (base_url, top_des, endpoint_des, endpoints, api_url, hostname))\n",
    "\n",
    "# Commit the changes and close the connection\n",
    "cnx.commit()\n",
    "cnx.close()"
   ]
  }
 ],
 "metadata": {
  "kernelspec": {
   "display_name": "Python 3 (ipykernel)",
   "language": "python",
   "name": "python3"
  },
  "language_info": {
   "codemirror_mode": {
    "name": "ipython",
    "version": 3
   },
   "file_extension": ".py",
   "mimetype": "text/x-python",
   "name": "python",
   "nbconvert_exporter": "python",
   "pygments_lexer": "ipython3",
   "version": "3.11.3"
  }
 },
 "nbformat": 4,
 "nbformat_minor": 5
}
